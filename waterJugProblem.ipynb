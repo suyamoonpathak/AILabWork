{
 "cells": [
  {
   "cell_type": "code",
   "execution_count": 7,
   "metadata": {},
   "outputs": [],
   "source": [
    "def gcd(a,b):\n",
    "  if a==0:\n",
    "    return b\n",
    "  else:\n",
    "    return gcd(b%a,a)"
   ]
  },
  {
   "cell_type": "code",
   "execution_count": 8,
   "metadata": {},
   "outputs": [],
   "source": [
    "m=int(input(\"Enter the capacity of the first jug\"))\n",
    "n=int(input(\"Enter the capacity of the second jug\"))\n",
    "d=int(input(\"Enter the goal number of liters\"))"
   ]
  },
  {
   "cell_type": "code",
   "execution_count": 10,
   "metadata": {},
   "outputs": [],
   "source": [
    "if d % gcd(m,n) != 0:\n",
    "    print(\"Solution Not feasible\")"
   ]
  },
  {
   "cell_type": "code",
   "execution_count": 13,
   "metadata": {},
   "outputs": [
    {
     "ename": "KeyboardInterrupt",
     "evalue": "",
     "output_type": "error",
     "traceback": [
      "\u001b[0;31m---------------------------------------------------------------------------\u001b[0m",
      "\u001b[0;31mKeyboardInterrupt\u001b[0m                         Traceback (most recent call last)",
      "Cell \u001b[0;32mIn [13], line 5\u001b[0m\n\u001b[1;32m      3\u001b[0m x\u001b[39m=\u001b[39m\u001b[39m0\u001b[39m\n\u001b[1;32m      4\u001b[0m y\u001b[39m=\u001b[39m\u001b[39m0\u001b[39m\n\u001b[0;32m----> 5\u001b[0m \u001b[39mwhile\u001b[39;00m x\u001b[39m!=\u001b[39md \u001b[39mor\u001b[39;00m y\u001b[39m!=\u001b[39md:\n\u001b[1;32m      6\u001b[0m     \u001b[39mif\u001b[39;00m x\u001b[39m<\u001b[39mm:\n\u001b[1;32m      7\u001b[0m         x\u001b[39m=\u001b[39mm\n",
      "\u001b[0;31mKeyboardInterrupt\u001b[0m: "
     ]
    }
   ],
   "source": [
    "#m and n are current states\n",
    "#initially\n",
    "x=0\n",
    "y=0\n",
    "while x!=d or y!=d:\n",
    "    if x<m:\n",
    "        x=m\n",
    "    if y<n:\n",
    "        y=n\n",
    "    if x>0:\n",
    "        x=0\n",
    "    if y>0:\n",
    "        y=0\n",
    "    if ((x+y) <= m and y>0):\n",
    "        x=x=x+y\n",
    "        y=0\n",
    "    if ((x+y)<3 and x>0):\n",
    "        x=0\n",
    "        y=x+y\n",
    "\n",
    "print(x,y)"
   ]
  }
 ],
 "metadata": {
  "kernelspec": {
   "display_name": "Python 3",
   "language": "python",
   "name": "python3"
  },
  "language_info": {
   "codemirror_mode": {
    "name": "ipython",
    "version": 3
   },
   "file_extension": ".py",
   "mimetype": "text/x-python",
   "name": "python",
   "nbconvert_exporter": "python",
   "pygments_lexer": "ipython3",
   "version": "3.11.0"
  },
  "orig_nbformat": 4,
  "vscode": {
   "interpreter": {
    "hash": "aee8b7b246df8f9039afb4144a1f6fd8d2ca17a180786b69acc140d282b71a49"
   }
  }
 },
 "nbformat": 4,
 "nbformat_minor": 2
}
