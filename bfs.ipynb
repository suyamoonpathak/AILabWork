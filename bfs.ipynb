{
 "cells": [
  {
   "cell_type": "code",
   "execution_count": 9,
   "metadata": {},
   "outputs": [],
   "source": [
    "from collections import deque\n",
    "\n",
    "def bfs(graph,start,path,visited):\n",
    "  queue=deque()\n",
    "  visited[start]=True\n",
    "  queue.append(start)\n",
    "  path.append(start)\n",
    "  while len(queue)!=0:\n",
    "    tempNode=queue.popleft()\n",
    "    for neighbor in graph[tempNode]:\n",
    "      if visited[neighbor]==False:\n",
    "        visited[neighbor]=True\n",
    "        queue.append(neighbor)\n",
    "        path.append(neighbor)\n",
    "  return path"
   ]
  },
  {
   "cell_type": "code",
   "execution_count": 10,
   "metadata": {},
   "outputs": [
    {
     "name": "stdout",
     "output_type": "stream",
     "text": [
      "['A', 'B', 'C', 'D', 'F', 'K', 'E', 'G', 'L', 'H', 'I', 'J', 'M', 'N', 'P', 'Q']\n"
     ]
    }
   ],
   "source": [
    "from collections import defaultdict\n",
    "graph={\"A\":[\"B\",\"C\",\"D\"],\n",
    "\"B\":[\"F\",\"K\",\"A\",\"E\"],\n",
    "\"C\":[\"G\",\"L\",\"A\"],\n",
    "\"D\":[\"H\",\"I\",\"A\",\"J\"],\n",
    "\"E\":[\"B\"],\n",
    "\"F\":[\"M\",\"B\"],\n",
    "\"G\":[\"C\"],\n",
    "\"K\":[\"N\",\"B\"],\n",
    "\"L\":[\"P\",\"C\"],\n",
    "\"H\":[\"Q\",\"D\"],\n",
    "\"I\":[\"D\"],\n",
    "\"J\":[\"D\"],\n",
    "\"M\":[\"F\"],\n",
    "\"N\":[\"K\"],\n",
    "\"P\":[\"L\"],\n",
    "\"Q\":[\"H\"]}\n",
    "path=[]\n",
    "start='A'\n",
    "visited=defaultdict(bool)\n",
    "print(bfs(graph,start,path,visited))"
   ]
  }
 ],
 "metadata": {
  "kernelspec": {
   "display_name": "Python 3",
   "language": "python",
   "name": "python3"
  },
  "language_info": {
   "codemirror_mode": {
    "name": "ipython",
    "version": 3
   },
   "file_extension": ".py",
   "mimetype": "text/x-python",
   "name": "python",
   "nbconvert_exporter": "python",
   "pygments_lexer": "ipython3",
   "version": "3.11.0"
  },
  "orig_nbformat": 4,
  "vscode": {
   "interpreter": {
    "hash": "aee8b7b246df8f9039afb4144a1f6fd8d2ca17a180786b69acc140d282b71a49"
   }
  }
 },
 "nbformat": 4,
 "nbformat_minor": 2
}
